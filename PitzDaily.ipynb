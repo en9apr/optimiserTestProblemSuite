{
 "cells": [
  {
   "cell_type": "code",
   "execution_count": 129,
   "metadata": {
    "collapsed": true
   },
   "outputs": [],
   "source": [
    "import sys, time\n",
    "import numpy as np\n",
    "import subprocess\n",
    "import Exeter_CFD_Problems as TestSuite"
   ]
  },
  {
   "cell_type": "code",
   "execution_count": 130,
   "metadata": {
    "collapsed": true
   },
   "outputs": [],
   "source": [
    "settings = {}"
   ]
  },
  {
   "cell_type": "code",
   "execution_count": 131,
   "metadata": {
    "collapsed": true
   },
   "outputs": [],
   "source": [
    "# source directory\n",
    "settings['source_case'] = 'Exeter_CFD_Problems/data/PitzDaily/case_fine/' "
   ]
  },
  {
   "cell_type": "code",
   "execution_count": 132,
   "metadata": {
    "collapsed": true
   },
   "outputs": [],
   "source": [
    "# case path where CFD simulations will run\n",
    "settings['case_path'] = 'Exeter_CFD_Problems/data/PitzDaily/case_single/' "
   ]
  },
  {
   "cell_type": "code",
   "execution_count": 133,
   "metadata": {
    "collapsed": true
   },
   "outputs": [],
   "source": [
    "settings['boundary_files'] = ['Exeter_CFD_Problems/data/PitzDaily/boundary.csv']"
   ]
  },
  {
   "cell_type": "code",
   "execution_count": 134,
   "metadata": {
    "collapsed": true
   },
   "outputs": [],
   "source": [
    "settings['fixed_points_files'] = ['Exeter_CFD_Problems/data/PitzDaily/fixed.csv']"
   ]
  },
  {
   "cell_type": "code",
   "execution_count": 135,
   "metadata": {
    "collapsed": false
   },
   "outputs": [],
   "source": [
    "# this is required for PyFoam to work correctly\n",
    "sys.argv = sys.argv[:1] "
   ]
  },
  {
   "cell_type": "code",
   "execution_count": 136,
   "metadata": {
    "collapsed": false
   },
   "outputs": [],
   "source": [
    "# instantiate the problem object\n",
    "prob = TestSuite.PitzDaily(settings)"
   ]
  },
  {
   "cell_type": "code",
   "execution_count": 137,
   "metadata": {
    "collapsed": true
   },
   "outputs": [],
   "source": [
    "# get the lower and upper bounds\n",
    "lb, ub = prob.get_decision_boundary()"
   ]
  },
  {
   "cell_type": "code",
   "execution_count": 138,
   "metadata": {
    "collapsed": false
   },
   "outputs": [
    {
     "name": "stdout",
     "output_type": "stream",
     "text": [
      "[-0.01 -0.05 -0.01 -0.05 -0.01 -0.05 -0.01 -0.05 -0.01 -0.05] [ 0.287397  0.014     0.287397  0.014     0.287397  0.014     0.287397\n",
      "  0.014     0.287397  0.014   ]\n"
     ]
    }
   ],
   "source": [
    "print(lb, ub)"
   ]
  },
  {
   "cell_type": "code",
   "execution_count": 139,
   "metadata": {
    "collapsed": true
   },
   "outputs": [],
   "source": [
    "# generate random solutions satisfying the lower and upper bounds.\n",
    "x = np.random.random((1000, lb.shape[0])) * (ub - lb) + lb"
   ]
  },
  {
   "cell_type": "code",
   "execution_count": 140,
   "metadata": {
    "collapsed": true
   },
   "outputs": [],
   "source": [
    "rand_x = []"
   ]
  },
  {
   "cell_type": "code",
   "execution_count": 141,
   "metadata": {
    "collapsed": true
   },
   "outputs": [],
   "source": [
    "for i in range(x.shape[0]):\n",
    "    if prob.constraint(x[i]): # check to see if the random solution is valid\n",
    "        rand_x.append(x[i])"
   ]
  },
  {
   "cell_type": "code",
   "execution_count": 142,
   "metadata": {
    "collapsed": false
   },
   "outputs": [
    {
     "name": "stdout",
     "output_type": "stream",
     "text": [
      "Number of control points:  [5]\n"
     ]
    }
   ],
   "source": [
    "# evaluate for a solution\n",
    "print('Number of control points: ', prob.n_control)"
   ]
  },
  {
   "cell_type": "code",
   "execution_count": 143,
   "metadata": {
    "collapsed": false
   },
   "outputs": [
    {
     "name": "stdout",
     "output_type": "stream",
     "text": [
      "Decision vector:  [ 0.01952242 -0.03760003  0.14329672 -0.04803269  0.0551533   0.00137285\n",
      "  0.04078808 -0.03457328  0.08101577 -0.01308057]\n"
     ]
    }
   ],
   "source": [
    "print('Decision vector: ', rand_x[1])"
   ]
  },
  {
   "cell_type": "code",
   "execution_count": 145,
   "metadata": {
    "collapsed": false
   },
   "outputs": [
    {
     "name": "stdout",
     "output_type": "stream",
     "text": [
      "True\n"
     ]
    }
   ],
   "source": [
    "print(prob.constraint(rand_x))"
   ]
  },
  {
   "cell_type": "code",
   "execution_count": 146,
   "metadata": {
    "collapsed": false
   },
   "outputs": [
    {
     "name": "stdout",
     "output_type": "stream",
     "text": [
      "Running simulation ...\n"
     ]
    }
   ],
   "source": [
    "print('Running simulation ...')\n",
    "start = time.time()"
   ]
  },
  {
   "cell_type": "code",
   "execution_count": 147,
   "metadata": {
    "collapsed": true
   },
   "outputs": [],
   "source": [
    "res = prob.evaluate(rand_x[1], verbose=False)"
   ]
  },
  {
   "cell_type": "code",
   "execution_count": 148,
   "metadata": {
    "collapsed": false
   },
   "outputs": [
    {
     "name": "stdout",
     "output_type": "stream",
     "text": [
      "Objective function value: 0.156557678055\n"
     ]
    }
   ],
   "source": [
    "print('Objective function value:', res)"
   ]
  },
  {
   "cell_type": "code",
   "execution_count": 149,
   "metadata": {
    "collapsed": false
   },
   "outputs": [
    {
     "name": "stdout",
     "output_type": "stream",
     "text": [
      "Time taken: 121.08869075775146  seconds.\n"
     ]
    }
   ],
   "source": [
    "print('Time taken:', time.time()-start, ' seconds.')"
   ]
  },
  {
   "cell_type": "code",
   "execution_count": null,
   "metadata": {
    "collapsed": true
   },
   "outputs": [],
   "source": []
  }
 ],
 "metadata": {
  "anaconda-cloud": {},
  "kernelspec": {
   "display_name": "Python [conda root]",
   "language": "python",
   "name": "conda-root-py"
  },
  "language_info": {
   "codemirror_mode": {
    "name": "ipython",
    "version": 3
   },
   "file_extension": ".py",
   "mimetype": "text/x-python",
   "name": "python",
   "nbconvert_exporter": "python",
   "pygments_lexer": "ipython3",
   "version": "3.5.2"
  }
 },
 "nbformat": 4,
 "nbformat_minor": 1
}
